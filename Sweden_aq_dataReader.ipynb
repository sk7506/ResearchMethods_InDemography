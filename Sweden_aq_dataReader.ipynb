{
 "cells": [
  {
   "cell_type": "code",
   "execution_count": 1,
   "metadata": {},
   "outputs": [
    {
     "name": "stdout",
     "output_type": "stream",
     "text": [
      "Sample data:\n",
      "                 key      values\n",
      "0  [NOx, 0.6, 1990]  [339924.9]\n",
      "1  [NOx, 0.6, 1991]  [351223.8]\n",
      "2  [NOx, 0.6, 1992]  [343497.7]\n",
      "3  [NOx, 0.6, 1993]  [329671.6]\n",
      "4  [NOx, 0.6, 1994]  [344226.4]\n",
      "   Year Pollutant Sector Emissions\n",
      "0  1990       NOx    0.6  339924.9\n",
      "1  1991       NOx    0.6  351223.8\n",
      "2  1992       NOx    0.6  343497.7\n",
      "3  1993       NOx    0.6  329671.6\n",
      "4  1994       NOx    0.6  344226.4\n",
      "Data saved as 'sweden_aq.csv'\n"
     ]
    }
   ],
   "source": [
    "import requests\n",
    "import pandas as pd\n",
    "\n",
    "API_REQUEST_URL = \"https://api.scb.se/OV0104/v1/doris/en/ssd/START/MI/MI0108/TotaltUtslapp\"\n",
    "API_REQUEST_TEMPLATE = {\n",
    "    \"query\": [\n",
    "        {\n",
    "            \"code\": \"Sektor\",\n",
    "            \"selection\": {\n",
    "                \"filter\": \"item\",\n",
    "                \"values\": [\"0.6\"]  # Selecting sector \"0.6\"\n",
    "            }\n",
    "        }\n",
    "    ],\n",
    "    \"response\": {\n",
    "        \"format\": \"json\"  # Requesting JSON format\n",
    "    }\n",
    "}\n",
    "\n",
    "# API request\n",
    "response = requests.post(API_REQUEST_URL, json=API_REQUEST_TEMPLATE)\n",
    "\n",
    "if response.status_code == 200:\n",
    "    data = response.json()\n",
    "    \n",
    "    # put data in dataframe (there's metadata, data, etc.)\n",
    "    emissions_data = pd.DataFrame(data[\"data\"])\n",
    "    \n",
    "    # show how `key` and `values` look\n",
    "    print(\"Sample data:\\n\", emissions_data.head())\n",
    "\n",
    "    # get pollutant, sector, and year from `key`\n",
    "    emissions_data[['Pollutant', 'Sector', 'Year']] = pd.DataFrame(emissions_data[\"key\"].apply(lambda x: x).tolist(), index=emissions_data.index)\n",
    "\n",
    "    emissions_data['Year'] = pd.to_numeric(emissions_data['Year'], errors='coerce')\n",
    "    \n",
    "    # get emissions specifically\n",
    "    emissions_data['Emissions'] = emissions_data['values'].apply(lambda x: x[0] if isinstance(x, list) else x)\n",
    "\n",
    "    # clean and show\n",
    "    sweden_aq = emissions_data[['Year', 'Pollutant', 'Sector', 'Emissions']]\n",
    "    print(sweden_aq.head())\n",
    "else:\n",
    "    print(f\"Error: {response.status_code}\")\n",
    "\n",
    "# save as csv file\n",
    "sweden_aq.to_csv('/Users/sarahkilpatrick/Documents/CSDE 533 Homeworks/sweden_aq.csv', index=False)\n"
   ]
  }
 ],
 "metadata": {
  "kernelspec": {
   "display_name": "Test",
   "language": "python",
   "name": "python3"
  },
  "language_info": {
   "codemirror_mode": {
    "name": "ipython",
    "version": 3
   },
   "file_extension": ".py",
   "mimetype": "text/x-python",
   "name": "python",
   "nbconvert_exporter": "python",
   "pygments_lexer": "ipython3",
   "version": "3.11.11"
  }
 },
 "nbformat": 4,
 "nbformat_minor": 2
}
